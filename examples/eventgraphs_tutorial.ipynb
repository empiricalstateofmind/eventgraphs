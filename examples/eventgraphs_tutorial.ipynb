{
 "cells": [
  {
   "cell_type": "markdown",
   "metadata": {},
   "source": [
    "# Eventgraphs Tutorial\n",
    "<a name=\"top\"></a>\n",
    "\n",
    "This tutorial is structured as follows:\n",
    "* [Installation](#Installation)\n",
    "* [Class Structure and IO](#Class-Structure-and-IO)\n",
    "* [Motif and Inter-event Time Distributions](#Motif-and-Inter-event-Time-Distributions)\n",
    "* [Component Analysis](#Component-Analysis)\n",
    "* [Plotting](#Plotting)\n",
    "* [Feature Analysis and Clustering](#Feature-Analysis-and-Clustering)\n",
    "* [Centrality](#Centrality)"
   ]
  },
  {
   "cell_type": "markdown",
   "metadata": {},
   "source": [
    "## Installation\n",
    "\n",
    "Eventgraphs can be installed using pip, either directly from the Github repostitory, or from PyPI.\n",
    "To ensure that the software is up to date it is recommended to use the latest version from Github where possible.\n",
    "\n",
    "#### Install from Github (Latest version, recommended) \n",
    "\n",
    "```bash\n",
    "pip install git+https://github.com/empiricalstateofmind/eventgraphs\n",
    "```\n",
    "\n",
    "#### Install from PyPI\n",
    "\n",
    "```bash\n",
    "pip install eventgraphs\n",
    "```"
   ]
  },
  {
   "cell_type": "markdown",
   "metadata": {},
   "source": [
    "## Class Structure and IO\n",
    "\n",
    "The main object of eventgraphs is the *EventGraph*.\n",
    "\n",
    "We use the EventGraph to capture and sanctify incoming data, calculate inter-event times and temporal motifs, and perform a temporal decomposition."
   ]
  },
  {
   "cell_type": "code",
   "execution_count": 3,
   "metadata": {
    "collapsed": true
   },
   "outputs": [],
   "source": [
    "%matplotlib inline\n",
    "import pandas as pd\n",
    "import numpy as np\n",
    "import json\n",
    "\n",
    "from eventgraphs import EventGraph"
   ]
  },
  {
   "cell_type": "markdown",
   "metadata": {},
   "source": [
    "### Data Structure\n",
    "\n",
    "The EventGraph can be constructed using two types of data structure for the set of events.\n",
    "\n",
    "* `EventGraph.from_pandas_eventlist(data, graph_rules)`: *data* should be in the form of a Pandas DataFrame with minimal columns [source, target, time]. Additional columns can be added including [duration, type]. Any other columns will be included but ignored.\n",
    "* `EventGraph.from_dict_eventlist(data, graph_rules)`: *data* should be in the form of a dictionary of records of the form {index: {source:, target:, time:}}. Additional entries can be added including [duration, type]. Any other entries will be included but ignored.\n",
    "\n",
    "*graph_rules* can be one of 'teg', 'pfg', or 'eg' depending on the type of EventGraph required (see more below)."
   ]
  },
  {
   "cell_type": "code",
   "execution_count": 6,
   "metadata": {},
   "outputs": [
    {
     "data": {
      "text/html": [
       "<div>\n",
       "<style>\n",
       "    .dataframe thead tr:only-child th {\n",
       "        text-align: right;\n",
       "    }\n",
       "\n",
       "    .dataframe thead th {\n",
       "        text-align: left;\n",
       "    }\n",
       "\n",
       "    .dataframe tbody tr th {\n",
       "        vertical-align: top;\n",
       "    }\n",
       "</style>\n",
       "<table border=\"1\" class=\"dataframe\">\n",
       "  <thead>\n",
       "    <tr style=\"text-align: right;\">\n",
       "      <th></th>\n",
       "      <th>source</th>\n",
       "      <th>target</th>\n",
       "      <th>time</th>\n",
       "      <th>type</th>\n",
       "    </tr>\n",
       "  </thead>\n",
       "  <tbody>\n",
       "    <tr>\n",
       "      <th>0</th>\n",
       "      <td>75793</td>\n",
       "      <td>69955</td>\n",
       "      <td>4</td>\n",
       "      <td>m</td>\n",
       "    </tr>\n",
       "    <tr>\n",
       "      <th>1</th>\n",
       "      <td>69667</td>\n",
       "      <td>79761</td>\n",
       "      <td>6</td>\n",
       "      <td>r</td>\n",
       "    </tr>\n",
       "    <tr>\n",
       "      <th>2</th>\n",
       "      <td>17533</td>\n",
       "      <td>65736</td>\n",
       "      <td>7</td>\n",
       "      <td>r</td>\n",
       "    </tr>\n",
       "    <tr>\n",
       "      <th>3</th>\n",
       "      <td>84824</td>\n",
       "      <td>74793</td>\n",
       "      <td>9</td>\n",
       "      <td>r</td>\n",
       "    </tr>\n",
       "    <tr>\n",
       "      <th>4</th>\n",
       "      <td>111054</td>\n",
       "      <td>81510</td>\n",
       "      <td>9</td>\n",
       "      <td>r</td>\n",
       "    </tr>\n",
       "  </tbody>\n",
       "</table>\n",
       "</div>"
      ],
      "text/plain": [
       "   source  target  time type\n",
       "0   75793   69955     4    m\n",
       "1   69667   79761     6    r\n",
       "2   17533   65736     7    r\n",
       "3   84824   74793     9    r\n",
       "4  111054   81510     9    r"
      ]
     },
     "execution_count": 6,
     "metadata": {},
     "output_type": "execute_result"
    }
   ],
   "source": [
    "# ~ 2.5 MB download\n",
    "FILEPATH = 'https://raw.githubusercontent.com/empiricalstateofmind/eventgraphs/master/examples/collective_behaviour_paper/data/twitter_24h.csv'\n",
    "data = pd.read_csv(FILEPATH)\n",
    "\n",
    "data.head()"
   ]
  },
  {
   "cell_type": "markdown",
   "metadata": {},
   "source": [
    "### Building the EventGraph"
   ]
  },
  {
   "cell_type": "code",
   "execution_count": 3,
   "metadata": {},
   "outputs": [
    {
     "data": {
      "text/plain": [
       "<EventGraph with 52286 nodes, 143050 events, and 0 edges (status: unbuilt)>"
      ]
     },
     "execution_count": 3,
     "metadata": {},
     "output_type": "execute_result"
    }
   ],
   "source": [
    "EG = EventGraph.from_pandas_eventlist(data, graph_rules='teg')\n",
    "\n",
    "# Alternatively, we can use the dictionary constructor if our data was a dictionary.\n",
    "# EG = EventGraph.from_dict_eventlist(data, graph_rules='teg')\n",
    "\n",
    "EG"
   ]
  },
  {
   "cell_type": "markdown",
   "metadata": {},
   "source": [
    "The *event_graph_rules* are a dictionary which prescribe the settings used to build the EventGraph.\n",
    "These are:\n",
    "* **delta_cutoff:** How close in temporal proximity two events can be for them to be considered for joining.\n",
    "* **event_processor:** A function of the two events, returning True if they should be connected. Default behaviour assesses whether the two events are adjacent.\n",
    "* **subsequential:** A boolean to decide whether we consider only the first subsequent event for joining, or all future events.\n",
    "* **join_on_object:** Currently not implemented.\n",
    "* **event_object_processor:** Currently not implemented."
   ]
  },
  {
   "cell_type": "code",
   "execution_count": 4,
   "metadata": {},
   "outputs": [
    {
     "data": {
      "text/plain": [
       "{'delta_cutoff': 1000000000.0,\n",
       " 'event_object_processor': None,\n",
       " 'event_processor': <function eventgraphs.prebuilt.basic_event_processor>,\n",
       " 'join_on_object': False,\n",
       " 'subsequential': True}"
      ]
     },
     "execution_count": 4,
     "metadata": {},
     "output_type": "execute_result"
    }
   ],
   "source": [
    "EG.event_graph_rules"
   ]
  },
  {
   "cell_type": "code",
   "execution_count": 5,
   "metadata": {
    "collapsed": true
   },
   "outputs": [],
   "source": [
    "EG.event_graph_rules['delta_cutoff'] = 180"
   ]
  },
  {
   "cell_type": "code",
   "execution_count": 6,
   "metadata": {},
   "outputs": [
    {
     "name": "stdout",
     "output_type": "stream",
     "text": [
      "52250 / 52286\r"
     ]
    }
   ],
   "source": [
    "EG.build(verbose=True)"
   ]
  },
  {
   "cell_type": "markdown",
   "metadata": {},
   "source": [
    "The event graph edges can be found as the *EventGraph.eg_edges* table of the EventGraph.\n",
    "\n",
    "Source and target indices are connected to the *EventGraph.events* table of the EventGraph.\n",
    "\n",
    "The inter-event time is already calculated for each edge of the EventGraph (here called *delta*)"
   ]
  },
  {
   "cell_type": "code",
   "execution_count": 49,
   "metadata": {},
   "outputs": [
    {
     "data": {
      "text/html": [
       "<div>\n",
       "<style>\n",
       "    .dataframe thead tr:only-child th {\n",
       "        text-align: right;\n",
       "    }\n",
       "\n",
       "    .dataframe thead th {\n",
       "        text-align: left;\n",
       "    }\n",
       "\n",
       "    .dataframe tbody tr th {\n",
       "        vertical-align: top;\n",
       "    }\n",
       "</style>\n",
       "<table border=\"1\" class=\"dataframe\">\n",
       "  <thead>\n",
       "    <tr style=\"text-align: right;\">\n",
       "      <th></th>\n",
       "      <th>delta</th>\n",
       "      <th>motif</th>\n",
       "      <th>source</th>\n",
       "      <th>target</th>\n",
       "    </tr>\n",
       "  </thead>\n",
       "  <tbody>\n",
       "    <tr>\n",
       "      <th>3</th>\n",
       "      <td>64</td>\n",
       "      <td>●|+ (rt,rt)</td>\n",
       "      <td>2948</td>\n",
       "      <td>3026</td>\n",
       "    </tr>\n",
       "    <tr>\n",
       "      <th>11</th>\n",
       "      <td>5</td>\n",
       "      <td>+|○ (rt,rt)</td>\n",
       "      <td>0</td>\n",
       "      <td>5</td>\n",
       "    </tr>\n",
       "    <tr>\n",
       "      <th>12</th>\n",
       "      <td>6</td>\n",
       "      <td>+|○ (rt,rt)</td>\n",
       "      <td>5</td>\n",
       "      <td>13</td>\n",
       "    </tr>\n",
       "    <tr>\n",
       "      <th>13</th>\n",
       "      <td>19</td>\n",
       "      <td>+|○ (rt,rt)</td>\n",
       "      <td>13</td>\n",
       "      <td>40</td>\n",
       "    </tr>\n",
       "    <tr>\n",
       "      <th>14</th>\n",
       "      <td>134</td>\n",
       "      <td>+|○ (rt,rt)</td>\n",
       "      <td>40</td>\n",
       "      <td>166</td>\n",
       "    </tr>\n",
       "  </tbody>\n",
       "</table>\n",
       "</div>"
      ],
      "text/plain": [
       "    delta        motif  source  target\n",
       "3      64  ●|+ (rt,rt)    2948    3026\n",
       "11      5  +|○ (rt,rt)       0       5\n",
       "12      6  +|○ (rt,rt)       5      13\n",
       "13     19  +|○ (rt,rt)      13      40\n",
       "14    134  +|○ (rt,rt)      40     166"
      ]
     },
     "execution_count": 49,
     "metadata": {},
     "output_type": "execute_result"
    }
   ],
   "source": [
    "EG.eg_edges.head()"
   ]
  },
  {
   "cell_type": "markdown",
   "metadata": {},
   "source": [
    "Motifs are calculated using the *EventGraph.calculate_edge_motifs* function.\n",
    "\n",
    "This has control over whether coloured edges are used, or condensed motifs are used (for higher-order events).\n",
    "\n",
    "Calculated motifs are automatically added to the *EventGraph.eg_edges* table."
   ]
  },
  {
   "cell_type": "code",
   "execution_count": 8,
   "metadata": {
    "collapsed": true
   },
   "outputs": [],
   "source": [
    "EG.calculate_edge_motifs(edge_type='type', condensed=False)"
   ]
  },
  {
   "cell_type": "code",
   "execution_count": 50,
   "metadata": {},
   "outputs": [
    {
     "data": {
      "text/html": [
       "<div>\n",
       "<style>\n",
       "    .dataframe thead tr:only-child th {\n",
       "        text-align: right;\n",
       "    }\n",
       "\n",
       "    .dataframe thead th {\n",
       "        text-align: left;\n",
       "    }\n",
       "\n",
       "    .dataframe tbody tr th {\n",
       "        vertical-align: top;\n",
       "    }\n",
       "</style>\n",
       "<table border=\"1\" class=\"dataframe\">\n",
       "  <thead>\n",
       "    <tr style=\"text-align: right;\">\n",
       "      <th></th>\n",
       "      <th>delta</th>\n",
       "      <th>motif</th>\n",
       "      <th>source</th>\n",
       "      <th>target</th>\n",
       "    </tr>\n",
       "  </thead>\n",
       "  <tbody>\n",
       "    <tr>\n",
       "      <th>3</th>\n",
       "      <td>64</td>\n",
       "      <td>●|+ (rt,rt)</td>\n",
       "      <td>2948</td>\n",
       "      <td>3026</td>\n",
       "    </tr>\n",
       "    <tr>\n",
       "      <th>11</th>\n",
       "      <td>5</td>\n",
       "      <td>+|○ (rt,rt)</td>\n",
       "      <td>0</td>\n",
       "      <td>5</td>\n",
       "    </tr>\n",
       "    <tr>\n",
       "      <th>12</th>\n",
       "      <td>6</td>\n",
       "      <td>+|○ (rt,rt)</td>\n",
       "      <td>5</td>\n",
       "      <td>13</td>\n",
       "    </tr>\n",
       "    <tr>\n",
       "      <th>13</th>\n",
       "      <td>19</td>\n",
       "      <td>+|○ (rt,rt)</td>\n",
       "      <td>13</td>\n",
       "      <td>40</td>\n",
       "    </tr>\n",
       "    <tr>\n",
       "      <th>14</th>\n",
       "      <td>134</td>\n",
       "      <td>+|○ (rt,rt)</td>\n",
       "      <td>40</td>\n",
       "      <td>166</td>\n",
       "    </tr>\n",
       "  </tbody>\n",
       "</table>\n",
       "</div>"
      ],
      "text/plain": [
       "    delta        motif  source  target\n",
       "3      64  ●|+ (rt,rt)    2948    3026\n",
       "11      5  +|○ (rt,rt)       0       5\n",
       "12      6  +|○ (rt,rt)       5      13\n",
       "13     19  +|○ (rt,rt)      13      40\n",
       "14    134  +|○ (rt,rt)      40     166"
      ]
     },
     "execution_count": 50,
     "metadata": {},
     "output_type": "execute_result"
    }
   ],
   "source": [
    "EG.eg_edges.head()"
   ]
  },
  {
   "cell_type": "markdown",
   "metadata": {},
   "source": [
    "### EventGraph Operations\n",
    "\n",
    "There are a number of operations that we can carry out on the EventGraph to change its structure.\n",
    "\n",
    "These are:\n",
    "* *EventGraph.filter_edges*: Remove edges based on edge weights (upper or lower bound), or specify edges that belong to a particular motif.\n",
    "* *EventGraph.filter_events*: Remove events from the EventGraph (and connected edges)\n"
   ]
  },
  {
   "cell_type": "code",
   "execution_count": 10,
   "metadata": {},
   "outputs": [
    {
     "data": {
      "text/plain": [
       "<EventGraph with 52286 nodes, 143050 events, and 94660 edges (status: built)>"
      ]
     },
     "execution_count": 10,
     "metadata": {},
     "output_type": "execute_result"
    }
   ],
   "source": [
    "filtered = EG.filter_edges(delta_ub=90)\n",
    "filtered"
   ]
  },
  {
   "cell_type": "code",
   "execution_count": 11,
   "metadata": {},
   "outputs": [
    {
     "data": {
      "text/plain": [
       "<EventGraph with 52286 nodes, 143050 events, and 22886 edges (status: built)>"
      ]
     },
     "execution_count": 11,
     "metadata": {},
     "output_type": "execute_result"
    }
   ],
   "source": [
    "filtered = EG.filter_edges(motif_types=['●|○ (rt,rt)'])\n",
    "filtered"
   ]
  },
  {
   "cell_type": "code",
   "execution_count": 12,
   "metadata": {},
   "outputs": [
    {
     "data": {
      "text/plain": [
       "<EventGraph with 91 nodes, 100 events, and 64 edges (status: built)>"
      ]
     },
     "execution_count": 12,
     "metadata": {},
     "output_type": "execute_result"
    }
   ],
   "source": [
    "filtered = EG.filter_events(event_indices=range(100))\n",
    "filtered"
   ]
  },
  {
   "cell_type": "markdown",
   "metadata": {},
   "source": [
    "### Saving and Loading\n",
    "\n",
    "For ease of use, there is basic saving/loading functionality as json files."
   ]
  },
  {
   "cell_type": "code",
   "execution_count": 13,
   "metadata": {
    "collapsed": true
   },
   "outputs": [],
   "source": [
    "EG.save('eventgraph.json')"
   ]
  },
  {
   "cell_type": "code",
   "execution_count": 14,
   "metadata": {
    "collapsed": true
   },
   "outputs": [],
   "source": [
    "EG = EventGraph.from_file('eventgraph.json')"
   ]
  },
  {
   "cell_type": "markdown",
   "metadata": {},
   "source": [
    "[[Back to top](#top)]"
   ]
  },
  {
   "cell_type": "markdown",
   "metadata": {},
   "source": [
    "## Analysis\n",
    "\n",
    "The tools to analyse EventGraphs are contained in *eventgraphs.analysis*.\n",
    "Most of the functions in this subpackage take the EventGraph object as the primary argument."
   ]
  },
  {
   "cell_type": "markdown",
   "metadata": {},
   "source": [
    "### Motif Distributions\n",
    "\n",
    "Motif distributions can be calculated from *EventGraph.eg_edges*, or using the helper function from analysis."
   ]
  },
  {
   "cell_type": "code",
   "execution_count": 51,
   "metadata": {},
   "outputs": [
    {
     "data": {
      "image/png": "[encoded data removed]",
      "text/plain": [
       "<matplotlib.figure.Figure at 0x7f765773c978>"
      ]
     },
     "metadata": {},
     "output_type": "display_data"
    }
   ],
   "source": [
    "from eventgraphs.analysis import calculate_motif_distribution\n",
    "\n",
    "motif_distribution = calculate_motif_distribution(EG)\n",
    "\n",
    "motif_distribution.nlargest().plot(kind='bar', ylim=(0,0.5));"
   ]
  },
  {
   "cell_type": "markdown",
   "metadata": {},
   "source": [
    "### Inter-event Time Distributions\n",
    "\n",
    "Similarly, inter-event times distributions have a helper function, with various options.\n",
    "\n",
    "One of these options is to condition the inter-event times by the type of motif that is formed between the two events."
   ]
  },
  {
   "cell_type": "code",
   "execution_count": 52,
   "metadata": {},
   "outputs": [
    {
     "data": {
      "image/png": "[encoded data removed]",
      "text/plain": [
       "<matplotlib.figure.Figure at 0x7f76590e1710>"
      ]
     },
     "metadata": {},
     "output_type": "display_data"
    }
   ],
   "source": [
    "from eventgraphs.analysis import calculate_iet_distribution\n",
    "\n",
    "iets = calculate_iet_distribution(EG, \n",
    "                                  normalize=True, \n",
    "                                  cumulative=True, \n",
    "                                  bins=np.linspace(0,180,20))\n",
    "\n",
    "iets.plot(marker='o', xlim=(0,180), ylim=(0,1));"
   ]
  },
  {
   "cell_type": "code",
   "execution_count": 53,
   "metadata": {},
   "outputs": [
    {
     "data": {
      "image/png": "[encoded data removed]",
      "text/plain": [
       "<matplotlib.figure.Figure at 0x7f765aff4eb8>"
      ]
     },
     "metadata": {},
     "output_type": "display_data"
    }
   ],
   "source": [
    "motif_iets = calculate_iet_distribution(EG, \n",
    "                                        by_motif=True, \n",
    "                                        normalize=True, \n",
    "                                        cumulative=True,\n",
    "                                        bins=np.linspace(0,180,20))\n",
    "\n",
    "for motif, times in motif_iets.items():\n",
    "    if motif in motif_distribution.nlargest():\n",
    "        times.plot(xlim=(0,180), \n",
    "                   ylim=(0,1), \n",
    "                   label=motif, \n",
    "                   logx=False, \n",
    "                   legend=True,\n",
    "                   marker='o')"
   ]
  },
  {
   "cell_type": "markdown",
   "metadata": {},
   "source": [
    "[[Back to top](#top)]"
   ]
  },
  {
   "cell_type": "markdown",
   "metadata": {},
   "source": [
    "## Component Analysis\n",
    "\n",
    "There are also helper functions to analyse the component size distributions, and how they vary with the parameter $\\Delta t$.\n",
    "\n",
    "Note that $\\Delta t$ must be less than the $\\Delta t$ chosen on initial graph construction."
   ]
  },
  {
   "cell_type": "code",
   "execution_count": 54,
   "metadata": {},
   "outputs": [
    {
     "data": {
      "image/png": "[encoded data removed]",
      "text/plain": [
       "<matplotlib.figure.Figure at 0x7f76590bef98>"
      ]
     },
     "metadata": {},
     "output_type": "display_data"
    }
   ],
   "source": [
    "from eventgraphs.analysis import calculate_component_distribution\n",
    "\n",
    "component_distribution = calculate_component_distribution(EG)\n",
    "\n",
    "component_distribution.plot(logx=True, \n",
    "                            logy=True);"
   ]
  },
  {
   "cell_type": "code",
   "execution_count": 55,
   "metadata": {},
   "outputs": [
    {
     "data": {
      "image/png": "[encoded data removed]",
      "text/plain": [
       "<matplotlib.figure.Figure at 0x7f762b57b5f8>"
      ]
     },
     "metadata": {},
     "output_type": "display_data"
    }
   ],
   "source": [
    "from eventgraphs.analysis import calculate_component_distribution_over_delta\n",
    "\n",
    "component_distributions, component_max = calculate_component_distribution_over_delta(EG, \n",
    "                                                                                np.linspace(20,180,9))\n",
    "\n",
    "component_max.plot(marker='o');"
   ]
  },
  {
   "cell_type": "code",
   "execution_count": 56,
   "metadata": {},
   "outputs": [
    {
     "data": {
      "image/png": "[encoded data removed]",
      "text/plain": [
       "<matplotlib.figure.Figure at 0x7f764b3fc470>"
      ]
     },
     "metadata": {},
     "output_type": "display_data"
    }
   ],
   "source": [
    "for dt, dist in component_distributions.items():\n",
    "    dist.cumsum().plot(label=dt, \n",
    "                       legend=True,\n",
    "                       logx=True,\n",
    "                       logy=True,\n",
    "                       marker='o')"
   ]
  },
  {
   "cell_type": "markdown",
   "metadata": {},
   "source": [
    "### Selecting Components\n",
    "\n",
    "The components can be selected using *EventGraph.connected_components*, specifying either a fixed number, or a minimum size. \n",
    "Components are also EventGraph objects."
   ]
  },
  {
   "cell_type": "code",
   "execution_count": 58,
   "metadata": {},
   "outputs": [
    {
     "data": {
      "text/plain": [
       "{3: <EventGraph with 510 nodes, 898 events, and 958 edges (status: built)>,\n",
       " 1192: <EventGraph with 451 nodes, 840 events, and 904 edges (status: built)>,\n",
       " 18971: <EventGraph with 976 nodes, 1838 events, and 2034 edges (status: built)>,\n",
       " 19956: <EventGraph with 2334 nodes, 5297 events, and 6082 edges (status: built)>,\n",
       " 22548: <EventGraph with 564 nodes, 884 events, and 932 edges (status: built)>}"
      ]
     },
     "execution_count": 58,
     "metadata": {},
     "output_type": "execute_result"
    }
   ],
   "source": [
    "components = EG.connected_components(top=5)\n",
    "components"
   ]
  },
  {
   "cell_type": "code",
   "execution_count": 57,
   "metadata": {},
   "outputs": [
    {
     "data": {
      "text/plain": [
       "<EventGraph with 2 nodes, 1 events, and 0 edges (status: built)>"
      ]
     },
     "execution_count": 57,
     "metadata": {},
     "output_type": "execute_result"
    }
   ],
   "source": [
    "featured_component = EG.get_component(4)\n",
    "featured_component"
   ]
  },
  {
   "cell_type": "markdown",
   "metadata": {},
   "source": [
    "[[Back to top](#top)]"
   ]
  },
  {
   "cell_type": "markdown",
   "metadata": {},
   "source": [
    "## Plotting\n",
    "\n",
    "The *eventgraphs.plotting* module gives a number of ways to plot EventGraphs.\n",
    "As with the analysis module, they all take an EventGraph as their primary argument."
   ]
  },
  {
   "cell_type": "markdown",
   "metadata": {},
   "source": [
    "### Temporal Barcode\n",
    "\n",
    "Temporal barcodes plot the activity of the largest components over time.\n",
    "Subsets of data can be easily found by using *EventGraph.filter_events*."
   ]
  },
  {
   "cell_type": "code",
   "execution_count": 59,
   "metadata": {},
   "outputs": [
    {
     "data": {
      "image/png": "[encoded data removed]",
      "text/plain": [
       "<matplotlib.figure.Figure at 0x7f762b36f358>"
      ]
     },
     "metadata": {},
     "output_type": "display_data"
    }
   ],
   "source": [
    "from eventgraphs.plotting import plot_barcode\n",
    "\n",
    "subset = EG.events[(EG.events.time>0) & (EG.events.time<=3600)]\n",
    "featured_data = EG.filter_events(subset.index)\n",
    "\n",
    "plot_barcode(featured_data, delta_ub=90, top=10);"
   ]
  },
  {
   "cell_type": "markdown",
   "metadata": {},
   "source": [
    "### Aggregate Static Graphs\n",
    "\n",
    "Each EventGraph corresponds to an underlying aggregate graph of nodes which can be plotted.\n",
    "\n",
    "There are also functions to just generate the graph object (Networkx Graph/DiGraph)."
   ]
  },
  {
   "cell_type": "code",
   "execution_count": 95,
   "metadata": {},
   "outputs": [
    {
     "data": {
      "image/png": "[encoded data removed]",
      "text/plain": [
       "<IPython.core.display.Image object>"
      ]
     },
     "execution_count": 95,
     "metadata": {},
     "output_type": "execute_result"
    }
   ],
   "source": [
    "from eventgraphs.plotting import plot_aggregate_graph\n",
    "\n",
    "featured_component = EG.get_component(100)\n",
    "\n",
    "EVENT_CMAP = {'r':'red', 'm':'darkgreen'}\n",
    "\n",
    "plot_aggregate_graph(featured_component, edge_colormap=EVENT_CMAP)"
   ]
  },
  {
   "cell_type": "markdown",
   "metadata": {},
   "source": [
    "### Event Graph\n",
    "\n",
    "We can also plot the EventGraph itself, and colour-code by the event type.\n",
    "Events are arranged hierarchically.\n",
    "\n",
    "Note: In a future release the *y* axis will represent time so that event spacings are more clearly seen."
   ]
  },
  {
   "cell_type": "code",
   "execution_count": 101,
   "metadata": {},
   "outputs": [
    {
     "data": {
      "image/png": "[encoded data removed]",
      "text/plain": [
       "<IPython.core.display.Image object>"
      ]
     },
     "execution_count": 101,
     "metadata": {},
     "output_type": "execute_result"
    }
   ],
   "source": [
    "from eventgraphs.plotting import plot_event_graph\n",
    "\n",
    "plot_event_graph(featured_component, event_colormap=EVENT_CMAP)"
   ]
  },
  {
   "cell_type": "markdown",
   "metadata": {},
   "source": [
    "[[Back to top](#top)]"
   ]
  },
  {
   "cell_type": "markdown",
   "metadata": {},
   "source": [
    "## Feature Analysis and Clustering\n",
    "\n",
    "We now look at analysising the individual components of the EventGraph."
   ]
  },
  {
   "cell_type": "code",
   "execution_count": 75,
   "metadata": {},
   "outputs": [
    {
     "data": {
      "text/plain": [
       "4683"
      ]
     },
     "execution_count": 75,
     "metadata": {},
     "output_type": "execute_result"
    }
   ],
   "source": [
    "components = EG.connected_components(min_size=5)\n",
    "len(components)"
   ]
  },
  {
   "cell_type": "markdown",
   "metadata": {},
   "source": [
    "### Generating Component Features\n",
    "\n",
    "To generate a set of features we prescribe a *FEATURE_SPEC*.\n",
    "\n",
    "This is split into *event_graph_features* and *aggregate_graph_features*.\n",
    "\n",
    "Each feature has four properties: \n",
    "* name - A simple name for the feature\n",
    "* scale - Whether this feature is scale-invariant (these types of features will be returned seperately)\n",
    "* function - A function which operates on the EventGraph or Aggregate Graph to produce the feature\n",
    "* kwargs - Any keywords to be passed to the function.\n",
    "\n",
    "In *eventgraphs.clustering* there is already a template FEATURE_SPEC which can be used."
   ]
  },
  {
   "cell_type": "code",
   "execution_count": 76,
   "metadata": {},
   "outputs": [
    {
     "data": {
      "text/plain": [
       "[{'function': <function eventgraphs.analysis.calculate_motif_distribution>,\n",
       "  'kwargs': {},\n",
       "  'name': 'motifs',\n",
       "  'scale': False},\n",
       " {'function': <function eventgraphs.analysis.calculate_motif_entropy>,\n",
       "  'kwargs': {},\n",
       "  'name': 'motif_entropy',\n",
       "  'scale': False},\n",
       " {'function': <function eventgraphs.analysis.calculate_iet_entropy>,\n",
       "  'kwargs': {},\n",
       "  'name': 'iet_entropy',\n",
       "  'scale': False},\n",
       " {'function': <function eventgraphs.analysis.calculate_activity>,\n",
       "  'kwargs': {},\n",
       "  'name': 'activity',\n",
       "  'scale': False},\n",
       " {'function': <function eventgraphs.clustering.<lambda>>,\n",
       "  'kwargs': {},\n",
       "  'name': 'duration',\n",
       "  'scale': True},\n",
       " {'function': <function eventgraphs.clustering.<lambda>>,\n",
       "  'kwargs': {},\n",
       "  'name': 'num_events',\n",
       "  'scale': True},\n",
       " {'function': <function eventgraphs.clustering.<lambda>>,\n",
       "  'kwargs': {},\n",
       "  'name': 'num_nodes',\n",
       "  'scale': True}]"
      ]
     },
     "execution_count": 76,
     "metadata": {},
     "output_type": "execute_result"
    }
   ],
   "source": [
    "from eventgraphs.clustering import generate_features, FEATURE_SPEC\n",
    "\n",
    "FEATURE_SPEC['event_graph_features']"
   ]
  },
  {
   "cell_type": "code",
   "execution_count": 77,
   "metadata": {
    "collapsed": true
   },
   "outputs": [],
   "source": [
    "features, scale_features = generate_features(components, feature_spec=FEATURE_SPEC)"
   ]
  },
  {
   "cell_type": "code",
   "execution_count": 78,
   "metadata": {},
   "outputs": [
    {
     "data": {
      "text/html": [
       "<div>\n",
       "<style>\n",
       "    .dataframe thead tr:only-child th {\n",
       "        text-align: right;\n",
       "    }\n",
       "\n",
       "    .dataframe thead th {\n",
       "        text-align: left;\n",
       "    }\n",
       "\n",
       "    .dataframe tbody tr th {\n",
       "        vertical-align: top;\n",
       "    }\n",
       "</style>\n",
       "<table border=\"1\" class=\"dataframe\">\n",
       "  <thead>\n",
       "    <tr style=\"text-align: right;\">\n",
       "      <th></th>\n",
       "      <th>0</th>\n",
       "      <th>2</th>\n",
       "      <th>3</th>\n",
       "      <th>9</th>\n",
       "      <th>11</th>\n",
       "    </tr>\n",
       "  </thead>\n",
       "  <tbody>\n",
       "    <tr>\n",
       "      <th>+|○ (me,me)</th>\n",
       "      <td>0.000000</td>\n",
       "      <td>0.000000</td>\n",
       "      <td>0.000000</td>\n",
       "      <td>0.00000</td>\n",
       "      <td>0.000000</td>\n",
       "    </tr>\n",
       "    <tr>\n",
       "      <th>+|○ (me,rt)</th>\n",
       "      <td>0.000000</td>\n",
       "      <td>0.000000</td>\n",
       "      <td>0.000000</td>\n",
       "      <td>0.00000</td>\n",
       "      <td>0.000000</td>\n",
       "    </tr>\n",
       "    <tr>\n",
       "      <th>+|○ (me,ry)</th>\n",
       "      <td>0.000000</td>\n",
       "      <td>0.000000</td>\n",
       "      <td>0.000000</td>\n",
       "      <td>0.00000</td>\n",
       "      <td>0.000000</td>\n",
       "    </tr>\n",
       "    <tr>\n",
       "      <th>+|○ (rt,me)</th>\n",
       "      <td>0.000000</td>\n",
       "      <td>0.000000</td>\n",
       "      <td>0.000000</td>\n",
       "      <td>0.00000</td>\n",
       "      <td>0.000000</td>\n",
       "    </tr>\n",
       "    <tr>\n",
       "      <th>+|○ (rt,rt)</th>\n",
       "      <td>1.000000</td>\n",
       "      <td>0.000000</td>\n",
       "      <td>0.548017</td>\n",
       "      <td>1.00000</td>\n",
       "      <td>0.727273</td>\n",
       "    </tr>\n",
       "    <tr>\n",
       "      <th>+|○ (rt,ry)</th>\n",
       "      <td>0.000000</td>\n",
       "      <td>0.000000</td>\n",
       "      <td>0.007307</td>\n",
       "      <td>0.00000</td>\n",
       "      <td>0.000000</td>\n",
       "    </tr>\n",
       "    <tr>\n",
       "      <th>+|○ (ry,me)</th>\n",
       "      <td>0.000000</td>\n",
       "      <td>0.000000</td>\n",
       "      <td>0.000000</td>\n",
       "      <td>0.00000</td>\n",
       "      <td>0.000000</td>\n",
       "    </tr>\n",
       "    <tr>\n",
       "      <th>+|○ (ry,rt)</th>\n",
       "      <td>0.000000</td>\n",
       "      <td>0.000000</td>\n",
       "      <td>0.006263</td>\n",
       "      <td>0.00000</td>\n",
       "      <td>0.000000</td>\n",
       "    </tr>\n",
       "    <tr>\n",
       "      <th>+|○ (ry,ry)</th>\n",
       "      <td>0.000000</td>\n",
       "      <td>0.000000</td>\n",
       "      <td>0.154489</td>\n",
       "      <td>0.00000</td>\n",
       "      <td>0.000000</td>\n",
       "    </tr>\n",
       "    <tr>\n",
       "      <th>+|● (me,me)</th>\n",
       "      <td>0.000000</td>\n",
       "      <td>0.000000</td>\n",
       "      <td>0.000000</td>\n",
       "      <td>0.00000</td>\n",
       "      <td>0.000000</td>\n",
       "    </tr>\n",
       "    <tr>\n",
       "      <th>+|● (me,rt)</th>\n",
       "      <td>0.000000</td>\n",
       "      <td>0.000000</td>\n",
       "      <td>0.000000</td>\n",
       "      <td>0.00000</td>\n",
       "      <td>0.000000</td>\n",
       "    </tr>\n",
       "    <tr>\n",
       "      <th>+|● (me,ry)</th>\n",
       "      <td>0.000000</td>\n",
       "      <td>0.000000</td>\n",
       "      <td>0.000000</td>\n",
       "      <td>0.00000</td>\n",
       "      <td>0.000000</td>\n",
       "    </tr>\n",
       "    <tr>\n",
       "      <th>+|● (rt,me)</th>\n",
       "      <td>0.000000</td>\n",
       "      <td>0.000000</td>\n",
       "      <td>0.000000</td>\n",
       "      <td>0.00000</td>\n",
       "      <td>0.000000</td>\n",
       "    </tr>\n",
       "    <tr>\n",
       "      <th>+|● (rt,rt)</th>\n",
       "      <td>0.000000</td>\n",
       "      <td>0.000000</td>\n",
       "      <td>0.000000</td>\n",
       "      <td>0.00000</td>\n",
       "      <td>0.000000</td>\n",
       "    </tr>\n",
       "    <tr>\n",
       "      <th>+|● (rt,ry)</th>\n",
       "      <td>0.000000</td>\n",
       "      <td>0.000000</td>\n",
       "      <td>0.022965</td>\n",
       "      <td>0.00000</td>\n",
       "      <td>0.000000</td>\n",
       "    </tr>\n",
       "    <tr>\n",
       "      <th>+|● (ry,me)</th>\n",
       "      <td>0.000000</td>\n",
       "      <td>0.000000</td>\n",
       "      <td>0.000000</td>\n",
       "      <td>0.00000</td>\n",
       "      <td>0.000000</td>\n",
       "    </tr>\n",
       "    <tr>\n",
       "      <th>+|● (ry,rt)</th>\n",
       "      <td>0.000000</td>\n",
       "      <td>0.000000</td>\n",
       "      <td>0.015658</td>\n",
       "      <td>0.00000</td>\n",
       "      <td>0.000000</td>\n",
       "    </tr>\n",
       "    <tr>\n",
       "      <th>+|● (ry,ry)</th>\n",
       "      <td>0.000000</td>\n",
       "      <td>0.000000</td>\n",
       "      <td>0.011482</td>\n",
       "      <td>0.00000</td>\n",
       "      <td>0.000000</td>\n",
       "    </tr>\n",
       "    <tr>\n",
       "      <th>activity</th>\n",
       "      <td>0.030488</td>\n",
       "      <td>0.284553</td>\n",
       "      <td>0.188142</td>\n",
       "      <td>0.04000</td>\n",
       "      <td>0.092437</td>\n",
       "    </tr>\n",
       "    <tr>\n",
       "      <th>assort_ii</th>\n",
       "      <td>-1.000000</td>\n",
       "      <td>-1.000000</td>\n",
       "      <td>-0.420992</td>\n",
       "      <td>-1.00000</td>\n",
       "      <td>-1.000000</td>\n",
       "    </tr>\n",
       "    <tr>\n",
       "      <th>assort_io</th>\n",
       "      <td>0.000000</td>\n",
       "      <td>0.000000</td>\n",
       "      <td>0.000000</td>\n",
       "      <td>0.00000</td>\n",
       "      <td>0.000000</td>\n",
       "    </tr>\n",
       "    <tr>\n",
       "      <th>assort_oi</th>\n",
       "      <td>-1.000000</td>\n",
       "      <td>0.000000</td>\n",
       "      <td>-0.429354</td>\n",
       "      <td>-1.00000</td>\n",
       "      <td>-1.000000</td>\n",
       "    </tr>\n",
       "    <tr>\n",
       "      <th>assort_oo</th>\n",
       "      <td>1.000000</td>\n",
       "      <td>1.000000</td>\n",
       "      <td>-0.032579</td>\n",
       "      <td>1.00000</td>\n",
       "      <td>1.000000</td>\n",
       "    </tr>\n",
       "    <tr>\n",
       "      <th>clustering_coefficient</th>\n",
       "      <td>0.000000</td>\n",
       "      <td>0.000000</td>\n",
       "      <td>0.022355</td>\n",
       "      <td>0.00000</td>\n",
       "      <td>0.000000</td>\n",
       "    </tr>\n",
       "    <tr>\n",
       "      <th>iet_entropy</th>\n",
       "      <td>0.000050</td>\n",
       "      <td>0.000024</td>\n",
       "      <td>0.000004</td>\n",
       "      <td>0.00005</td>\n",
       "      <td>0.000031</td>\n",
       "    </tr>\n",
       "    <tr>\n",
       "      <th>motif_entropy</th>\n",
       "      <td>-0.000000</td>\n",
       "      <td>-0.000000</td>\n",
       "      <td>1.613747</td>\n",
       "      <td>-0.00000</td>\n",
       "      <td>0.585953</td>\n",
       "    </tr>\n",
       "    <tr>\n",
       "      <th>reciprocity_ratio</th>\n",
       "      <td>0.000000</td>\n",
       "      <td>0.000000</td>\n",
       "      <td>0.058824</td>\n",
       "      <td>0.00000</td>\n",
       "      <td>0.000000</td>\n",
       "    </tr>\n",
       "    <tr>\n",
       "      <th>○|+ (me,me)</th>\n",
       "      <td>0.000000</td>\n",
       "      <td>0.000000</td>\n",
       "      <td>0.000000</td>\n",
       "      <td>0.00000</td>\n",
       "      <td>0.000000</td>\n",
       "    </tr>\n",
       "    <tr>\n",
       "      <th>○|+ (me,rt)</th>\n",
       "      <td>0.000000</td>\n",
       "      <td>0.000000</td>\n",
       "      <td>0.000000</td>\n",
       "      <td>0.00000</td>\n",
       "      <td>0.000000</td>\n",
       "    </tr>\n",
       "    <tr>\n",
       "      <th>○|+ (me,ry)</th>\n",
       "      <td>0.000000</td>\n",
       "      <td>0.000000</td>\n",
       "      <td>0.000000</td>\n",
       "      <td>0.00000</td>\n",
       "      <td>0.000000</td>\n",
       "    </tr>\n",
       "    <tr>\n",
       "      <th>...</th>\n",
       "      <td>...</td>\n",
       "      <td>...</td>\n",
       "      <td>...</td>\n",
       "      <td>...</td>\n",
       "      <td>...</td>\n",
       "    </tr>\n",
       "    <tr>\n",
       "      <th>○|+ (rt,ry)</th>\n",
       "      <td>0.000000</td>\n",
       "      <td>0.000000</td>\n",
       "      <td>0.012526</td>\n",
       "      <td>0.00000</td>\n",
       "      <td>0.000000</td>\n",
       "    </tr>\n",
       "    <tr>\n",
       "      <th>○|+ (ry,me)</th>\n",
       "      <td>0.000000</td>\n",
       "      <td>0.000000</td>\n",
       "      <td>0.000000</td>\n",
       "      <td>0.00000</td>\n",
       "      <td>0.000000</td>\n",
       "    </tr>\n",
       "    <tr>\n",
       "      <th>○|+ (ry,rt)</th>\n",
       "      <td>0.000000</td>\n",
       "      <td>0.000000</td>\n",
       "      <td>0.021921</td>\n",
       "      <td>0.00000</td>\n",
       "      <td>0.000000</td>\n",
       "    </tr>\n",
       "    <tr>\n",
       "      <th>○|+ (ry,ry)</th>\n",
       "      <td>0.000000</td>\n",
       "      <td>0.000000</td>\n",
       "      <td>0.011482</td>\n",
       "      <td>0.00000</td>\n",
       "      <td>0.000000</td>\n",
       "    </tr>\n",
       "    <tr>\n",
       "      <th>○|● (me,me)</th>\n",
       "      <td>0.000000</td>\n",
       "      <td>0.000000</td>\n",
       "      <td>0.000000</td>\n",
       "      <td>0.00000</td>\n",
       "      <td>0.000000</td>\n",
       "    </tr>\n",
       "    <tr>\n",
       "      <th>○|● (me,rt)</th>\n",
       "      <td>0.000000</td>\n",
       "      <td>0.000000</td>\n",
       "      <td>0.000000</td>\n",
       "      <td>0.00000</td>\n",
       "      <td>0.000000</td>\n",
       "    </tr>\n",
       "    <tr>\n",
       "      <th>○|● (me,ry)</th>\n",
       "      <td>0.000000</td>\n",
       "      <td>0.000000</td>\n",
       "      <td>0.000000</td>\n",
       "      <td>0.00000</td>\n",
       "      <td>0.000000</td>\n",
       "    </tr>\n",
       "    <tr>\n",
       "      <th>○|● (rt,me)</th>\n",
       "      <td>0.000000</td>\n",
       "      <td>0.000000</td>\n",
       "      <td>0.000000</td>\n",
       "      <td>0.00000</td>\n",
       "      <td>0.000000</td>\n",
       "    </tr>\n",
       "    <tr>\n",
       "      <th>○|● (rt,rt)</th>\n",
       "      <td>0.000000</td>\n",
       "      <td>0.000000</td>\n",
       "      <td>0.000000</td>\n",
       "      <td>0.00000</td>\n",
       "      <td>0.000000</td>\n",
       "    </tr>\n",
       "    <tr>\n",
       "      <th>○|● (rt,ry)</th>\n",
       "      <td>0.000000</td>\n",
       "      <td>0.000000</td>\n",
       "      <td>0.011482</td>\n",
       "      <td>0.00000</td>\n",
       "      <td>0.000000</td>\n",
       "    </tr>\n",
       "    <tr>\n",
       "      <th>○|● (ry,me)</th>\n",
       "      <td>0.000000</td>\n",
       "      <td>0.000000</td>\n",
       "      <td>0.000000</td>\n",
       "      <td>0.00000</td>\n",
       "      <td>0.000000</td>\n",
       "    </tr>\n",
       "    <tr>\n",
       "      <th>○|● (ry,rt)</th>\n",
       "      <td>0.000000</td>\n",
       "      <td>0.000000</td>\n",
       "      <td>0.001044</td>\n",
       "      <td>0.00000</td>\n",
       "      <td>0.000000</td>\n",
       "    </tr>\n",
       "    <tr>\n",
       "      <th>○|● (ry,ry)</th>\n",
       "      <td>0.000000</td>\n",
       "      <td>0.000000</td>\n",
       "      <td>0.006263</td>\n",
       "      <td>0.00000</td>\n",
       "      <td>0.000000</td>\n",
       "    </tr>\n",
       "    <tr>\n",
       "      <th>●|+ (me,me)</th>\n",
       "      <td>0.000000</td>\n",
       "      <td>0.000000</td>\n",
       "      <td>0.000000</td>\n",
       "      <td>0.00000</td>\n",
       "      <td>0.000000</td>\n",
       "    </tr>\n",
       "    <tr>\n",
       "      <th>●|+ (me,rt)</th>\n",
       "      <td>0.000000</td>\n",
       "      <td>0.000000</td>\n",
       "      <td>0.000000</td>\n",
       "      <td>0.00000</td>\n",
       "      <td>0.000000</td>\n",
       "    </tr>\n",
       "    <tr>\n",
       "      <th>●|+ (me,ry)</th>\n",
       "      <td>0.000000</td>\n",
       "      <td>0.000000</td>\n",
       "      <td>0.001044</td>\n",
       "      <td>0.00000</td>\n",
       "      <td>0.000000</td>\n",
       "    </tr>\n",
       "    <tr>\n",
       "      <th>●|+ (rt,me)</th>\n",
       "      <td>0.000000</td>\n",
       "      <td>0.000000</td>\n",
       "      <td>0.000000</td>\n",
       "      <td>0.00000</td>\n",
       "      <td>0.000000</td>\n",
       "    </tr>\n",
       "    <tr>\n",
       "      <th>●|+ (rt,rt)</th>\n",
       "      <td>0.000000</td>\n",
       "      <td>0.000000</td>\n",
       "      <td>0.054280</td>\n",
       "      <td>0.00000</td>\n",
       "      <td>0.000000</td>\n",
       "    </tr>\n",
       "    <tr>\n",
       "      <th>●|+ (rt,ry)</th>\n",
       "      <td>0.000000</td>\n",
       "      <td>0.000000</td>\n",
       "      <td>0.000000</td>\n",
       "      <td>0.00000</td>\n",
       "      <td>0.000000</td>\n",
       "    </tr>\n",
       "    <tr>\n",
       "      <th>●|+ (ry,me)</th>\n",
       "      <td>0.000000</td>\n",
       "      <td>0.000000</td>\n",
       "      <td>0.000000</td>\n",
       "      <td>0.00000</td>\n",
       "      <td>0.000000</td>\n",
       "    </tr>\n",
       "    <tr>\n",
       "      <th>●|+ (ry,rt)</th>\n",
       "      <td>0.000000</td>\n",
       "      <td>0.000000</td>\n",
       "      <td>0.000000</td>\n",
       "      <td>0.00000</td>\n",
       "      <td>0.000000</td>\n",
       "    </tr>\n",
       "    <tr>\n",
       "      <th>●|+ (ry,ry)</th>\n",
       "      <td>0.000000</td>\n",
       "      <td>0.000000</td>\n",
       "      <td>0.003132</td>\n",
       "      <td>0.00000</td>\n",
       "      <td>0.000000</td>\n",
       "    </tr>\n",
       "    <tr>\n",
       "      <th>●|○ (me,me)</th>\n",
       "      <td>0.000000</td>\n",
       "      <td>0.000000</td>\n",
       "      <td>0.000000</td>\n",
       "      <td>0.00000</td>\n",
       "      <td>0.000000</td>\n",
       "    </tr>\n",
       "    <tr>\n",
       "      <th>●|○ (me,ry)</th>\n",
       "      <td>0.000000</td>\n",
       "      <td>0.000000</td>\n",
       "      <td>0.000000</td>\n",
       "      <td>0.00000</td>\n",
       "      <td>0.000000</td>\n",
       "    </tr>\n",
       "    <tr>\n",
       "      <th>●|○ (rt,me)</th>\n",
       "      <td>0.000000</td>\n",
       "      <td>0.000000</td>\n",
       "      <td>0.000000</td>\n",
       "      <td>0.00000</td>\n",
       "      <td>0.000000</td>\n",
       "    </tr>\n",
       "    <tr>\n",
       "      <th>●|○ (rt,rt)</th>\n",
       "      <td>0.000000</td>\n",
       "      <td>1.000000</td>\n",
       "      <td>0.106472</td>\n",
       "      <td>0.00000</td>\n",
       "      <td>0.272727</td>\n",
       "    </tr>\n",
       "    <tr>\n",
       "      <th>●|○ (rt,ry)</th>\n",
       "      <td>0.000000</td>\n",
       "      <td>0.000000</td>\n",
       "      <td>0.000000</td>\n",
       "      <td>0.00000</td>\n",
       "      <td>0.000000</td>\n",
       "    </tr>\n",
       "    <tr>\n",
       "      <th>●|○ (ry,me)</th>\n",
       "      <td>0.000000</td>\n",
       "      <td>0.000000</td>\n",
       "      <td>0.000000</td>\n",
       "      <td>0.00000</td>\n",
       "      <td>0.000000</td>\n",
       "    </tr>\n",
       "    <tr>\n",
       "      <th>●|○ (ry,rt)</th>\n",
       "      <td>0.000000</td>\n",
       "      <td>0.000000</td>\n",
       "      <td>0.000000</td>\n",
       "      <td>0.00000</td>\n",
       "      <td>0.000000</td>\n",
       "    </tr>\n",
       "    <tr>\n",
       "      <th>●|○ (ry,ry)</th>\n",
       "      <td>0.000000</td>\n",
       "      <td>0.000000</td>\n",
       "      <td>0.004175</td>\n",
       "      <td>0.00000</td>\n",
       "      <td>0.000000</td>\n",
       "    </tr>\n",
       "  </tbody>\n",
       "</table>\n",
       "<p>62 rows × 5 columns</p>\n",
       "</div>"
      ],
      "text/plain": [
       "                              0         2         3        9         11\n",
       "+|○ (me,me)             0.000000  0.000000  0.000000  0.00000  0.000000\n",
       "+|○ (me,rt)             0.000000  0.000000  0.000000  0.00000  0.000000\n",
       "+|○ (me,ry)             0.000000  0.000000  0.000000  0.00000  0.000000\n",
       "+|○ (rt,me)             0.000000  0.000000  0.000000  0.00000  0.000000\n",
       "+|○ (rt,rt)             1.000000  0.000000  0.548017  1.00000  0.727273\n",
       "+|○ (rt,ry)             0.000000  0.000000  0.007307  0.00000  0.000000\n",
       "+|○ (ry,me)             0.000000  0.000000  0.000000  0.00000  0.000000\n",
       "+|○ (ry,rt)             0.000000  0.000000  0.006263  0.00000  0.000000\n",
       "+|○ (ry,ry)             0.000000  0.000000  0.154489  0.00000  0.000000\n",
       "+|● (me,me)             0.000000  0.000000  0.000000  0.00000  0.000000\n",
       "+|● (me,rt)             0.000000  0.000000  0.000000  0.00000  0.000000\n",
       "+|● (me,ry)             0.000000  0.000000  0.000000  0.00000  0.000000\n",
       "+|● (rt,me)             0.000000  0.000000  0.000000  0.00000  0.000000\n",
       "+|● (rt,rt)             0.000000  0.000000  0.000000  0.00000  0.000000\n",
       "+|● (rt,ry)             0.000000  0.000000  0.022965  0.00000  0.000000\n",
       "+|● (ry,me)             0.000000  0.000000  0.000000  0.00000  0.000000\n",
       "+|● (ry,rt)             0.000000  0.000000  0.015658  0.00000  0.000000\n",
       "+|● (ry,ry)             0.000000  0.000000  0.011482  0.00000  0.000000\n",
       "activity                0.030488  0.284553  0.188142  0.04000  0.092437\n",
       "assort_ii              -1.000000 -1.000000 -0.420992 -1.00000 -1.000000\n",
       "assort_io               0.000000  0.000000  0.000000  0.00000  0.000000\n",
       "assort_oi              -1.000000  0.000000 -0.429354 -1.00000 -1.000000\n",
       "assort_oo               1.000000  1.000000 -0.032579  1.00000  1.000000\n",
       "clustering_coefficient  0.000000  0.000000  0.022355  0.00000  0.000000\n",
       "iet_entropy             0.000050  0.000024  0.000004  0.00005  0.000031\n",
       "motif_entropy          -0.000000 -0.000000  1.613747 -0.00000  0.585953\n",
       "reciprocity_ratio       0.000000  0.000000  0.058824  0.00000  0.000000\n",
       "○|+ (me,me)             0.000000  0.000000  0.000000  0.00000  0.000000\n",
       "○|+ (me,rt)             0.000000  0.000000  0.000000  0.00000  0.000000\n",
       "○|+ (me,ry)             0.000000  0.000000  0.000000  0.00000  0.000000\n",
       "...                          ...       ...       ...      ...       ...\n",
       "○|+ (rt,ry)             0.000000  0.000000  0.012526  0.00000  0.000000\n",
       "○|+ (ry,me)             0.000000  0.000000  0.000000  0.00000  0.000000\n",
       "○|+ (ry,rt)             0.000000  0.000000  0.021921  0.00000  0.000000\n",
       "○|+ (ry,ry)             0.000000  0.000000  0.011482  0.00000  0.000000\n",
       "○|● (me,me)             0.000000  0.000000  0.000000  0.00000  0.000000\n",
       "○|● (me,rt)             0.000000  0.000000  0.000000  0.00000  0.000000\n",
       "○|● (me,ry)             0.000000  0.000000  0.000000  0.00000  0.000000\n",
       "○|● (rt,me)             0.000000  0.000000  0.000000  0.00000  0.000000\n",
       "○|● (rt,rt)             0.000000  0.000000  0.000000  0.00000  0.000000\n",
       "○|● (rt,ry)             0.000000  0.000000  0.011482  0.00000  0.000000\n",
       "○|● (ry,me)             0.000000  0.000000  0.000000  0.00000  0.000000\n",
       "○|● (ry,rt)             0.000000  0.000000  0.001044  0.00000  0.000000\n",
       "○|● (ry,ry)             0.000000  0.000000  0.006263  0.00000  0.000000\n",
       "●|+ (me,me)             0.000000  0.000000  0.000000  0.00000  0.000000\n",
       "●|+ (me,rt)             0.000000  0.000000  0.000000  0.00000  0.000000\n",
       "●|+ (me,ry)             0.000000  0.000000  0.001044  0.00000  0.000000\n",
       "●|+ (rt,me)             0.000000  0.000000  0.000000  0.00000  0.000000\n",
       "●|+ (rt,rt)             0.000000  0.000000  0.054280  0.00000  0.000000\n",
       "●|+ (rt,ry)             0.000000  0.000000  0.000000  0.00000  0.000000\n",
       "●|+ (ry,me)             0.000000  0.000000  0.000000  0.00000  0.000000\n",
       "●|+ (ry,rt)             0.000000  0.000000  0.000000  0.00000  0.000000\n",
       "●|+ (ry,ry)             0.000000  0.000000  0.003132  0.00000  0.000000\n",
       "●|○ (me,me)             0.000000  0.000000  0.000000  0.00000  0.000000\n",
       "●|○ (me,ry)             0.000000  0.000000  0.000000  0.00000  0.000000\n",
       "●|○ (rt,me)             0.000000  0.000000  0.000000  0.00000  0.000000\n",
       "●|○ (rt,rt)             0.000000  1.000000  0.106472  0.00000  0.272727\n",
       "●|○ (rt,ry)             0.000000  0.000000  0.000000  0.00000  0.000000\n",
       "●|○ (ry,me)             0.000000  0.000000  0.000000  0.00000  0.000000\n",
       "●|○ (ry,rt)             0.000000  0.000000  0.000000  0.00000  0.000000\n",
       "●|○ (ry,ry)             0.000000  0.000000  0.004175  0.00000  0.000000\n",
       "\n",
       "[62 rows x 5 columns]"
      ]
     },
     "execution_count": 78,
     "metadata": {},
     "output_type": "execute_result"
    }
   ],
   "source": [
    "features.head().T"
   ]
  },
  {
   "cell_type": "code",
   "execution_count": 79,
   "metadata": {},
   "outputs": [
    {
     "data": {
      "text/html": [
       "<div>\n",
       "<style>\n",
       "    .dataframe thead tr:only-child th {\n",
       "        text-align: right;\n",
       "    }\n",
       "\n",
       "    .dataframe thead th {\n",
       "        text-align: left;\n",
       "    }\n",
       "\n",
       "    .dataframe tbody tr th {\n",
       "        vertical-align: top;\n",
       "    }\n",
       "</style>\n",
       "<table border=\"1\" class=\"dataframe\">\n",
       "  <thead>\n",
       "    <tr style=\"text-align: right;\">\n",
       "      <th></th>\n",
       "      <th>duration</th>\n",
       "      <th>edge_density</th>\n",
       "      <th>num_events</th>\n",
       "      <th>num_nodes</th>\n",
       "    </tr>\n",
       "  </thead>\n",
       "  <tbody>\n",
       "    <tr>\n",
       "      <th>0</th>\n",
       "      <td>164.0</td>\n",
       "      <td>0.166667</td>\n",
       "      <td>5.0</td>\n",
       "      <td>6.0</td>\n",
       "    </tr>\n",
       "    <tr>\n",
       "      <th>2</th>\n",
       "      <td>123.0</td>\n",
       "      <td>0.500000</td>\n",
       "      <td>35.0</td>\n",
       "      <td>2.0</td>\n",
       "    </tr>\n",
       "    <tr>\n",
       "      <th>3</th>\n",
       "      <td>4773.0</td>\n",
       "      <td>0.002620</td>\n",
       "      <td>898.0</td>\n",
       "      <td>510.0</td>\n",
       "    </tr>\n",
       "    <tr>\n",
       "      <th>9</th>\n",
       "      <td>125.0</td>\n",
       "      <td>0.166667</td>\n",
       "      <td>5.0</td>\n",
       "      <td>6.0</td>\n",
       "    </tr>\n",
       "    <tr>\n",
       "      <th>11</th>\n",
       "      <td>119.0</td>\n",
       "      <td>0.111111</td>\n",
       "      <td>11.0</td>\n",
       "      <td>9.0</td>\n",
       "    </tr>\n",
       "  </tbody>\n",
       "</table>\n",
       "</div>"
      ],
      "text/plain": [
       "    duration  edge_density  num_events  num_nodes\n",
       "0      164.0      0.166667         5.0        6.0\n",
       "2      123.0      0.500000        35.0        2.0\n",
       "3     4773.0      0.002620       898.0      510.0\n",
       "9      125.0      0.166667         5.0        6.0\n",
       "11     119.0      0.111111        11.0        9.0"
      ]
     },
     "execution_count": 79,
     "metadata": {},
     "output_type": "execute_result"
    }
   ],
   "source": [
    "scale_features.head()"
   ]
  },
  {
   "cell_type": "markdown",
   "metadata": {},
   "source": [
    "### Clustering\n",
    "\n",
    "Using these features we can then perform standard clustering.\n",
    "\n",
    "This can be done manually or through helper functions in *eventgraphs.clustering*."
   ]
  },
  {
   "cell_type": "code",
   "execution_count": 80,
   "metadata": {
    "collapsed": true
   },
   "outputs": [],
   "source": [
    "from eventgraphs.clustering import find_clusters\n",
    "\n",
    "max_clusters = 5\n",
    "clusters, cluster_centers = find_clusters(features, max_clusters=max_clusters)"
   ]
  },
  {
   "cell_type": "code",
   "execution_count": 81,
   "metadata": {
    "collapsed": true
   },
   "outputs": [],
   "source": [
    "EG.add_cluster_assignments(clusters)"
   ]
  },
  {
   "cell_type": "code",
   "execution_count": 86,
   "metadata": {},
   "outputs": [
    {
     "data": {
      "image/png": "[encoded data removed]",
      "text/plain": [
       "<matplotlib.figure.Figure at 0x7f76430c50f0>"
      ]
     },
     "metadata": {},
     "output_type": "display_data"
    }
   ],
   "source": [
    "from eventgraphs.plotting import plot_cluster_timeseries\n",
    "\n",
    "plot_cluster_timeseries(EG, interval_width=3600, normalized=True);"
   ]
  },
  {
   "cell_type": "code",
   "execution_count": 104,
   "metadata": {},
   "outputs": [
    {
     "data": {
      "image/png": "[encoded data removed]",
      "text/plain": [
       "<matplotlib.figure.Figure at 0x7f7656497d30>"
      ]
     },
     "metadata": {},
     "output_type": "display_data"
    }
   ],
   "source": [
    "from eventgraphs.clustering import generate_distance_matrix, generate_linkage\n",
    "from eventgraphs.plotting import plot_component_dendrogram\n",
    "\n",
    "distances = generate_distance_matrix(features)\n",
    "Z = generate_linkage(distances)\n",
    "\n",
    "plot_component_dendrogram(Z, dendrogram_kwargs={'leaf_rotation': 90, \n",
    "                             'truncate_mode': 'lastp', \n",
    "                             'p': 100,\n",
    "                             'no_labels': True, \n",
    "                             'distance_sort': False, \n",
    "                             'count_sort': True,\n",
    "                             'above_threshold_color': 'k', 'color_threshold': 120});"
   ]
  },
  {
   "cell_type": "code",
   "execution_count": 84,
   "metadata": {
    "collapsed": true
   },
   "outputs": [],
   "source": [
    "from eventgraphs.clustering import reduce_feature_dimensionality\n",
    "\n",
    "X = reduce_feature_dimensionality(features, ndim=2, method='tsne')"
   ]
  },
  {
   "cell_type": "code",
   "execution_count": 85,
   "metadata": {},
   "outputs": [
    {
     "data": {
      "image/png": "[encoded data removed]",
      "text/plain": [
       "<matplotlib.figure.Figure at 0x7f7647b15828>"
      ]
     },
     "metadata": {},
     "output_type": "display_data"
    }
   ],
   "source": [
    "from eventgraphs.plotting import plot_component_embedding\n",
    "\n",
    "plot_component_embedding(X, clusters=clusters);"
   ]
  },
  {
   "cell_type": "markdown",
   "metadata": {},
   "source": [
    "## Centrality\n",
    "\n",
    "TBD"
   ]
  },
  {
   "cell_type": "markdown",
   "metadata": {},
   "source": [
    "[[Back to top](#top)]"
   ]
  },
  {
   "cell_type": "markdown",
   "metadata": {},
   "source": [
    "## Joining Events on Objects\n",
    "\n",
    "TBD"
   ]
  },
  {
   "cell_type": "markdown",
   "metadata": {},
   "source": [
    "[[Back to top](#top)]"
   ]
  }
 ],
 "metadata": {
  "kernelspec": {
   "display_name": "Python [default]",
   "language": "python",
   "name": "python3"
  },
  "language_info": {
   "codemirror_mode": {
    "name": "ipython",
    "version": 3
   },
   "file_extension": ".py",
   "mimetype": "text/x-python",
   "name": "python",
   "nbconvert_exporter": "python",
   "pygments_lexer": "ipython3",
   "version": "3.6.1"
  }
 },
 "nbformat": 4,
 "nbformat_minor": 2
}
