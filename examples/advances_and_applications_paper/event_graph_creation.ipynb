{
 "cells": [
  {
   "cell_type": "markdown",
   "metadata": {},
   "source": [
    "# Building the Event Graphs for Study"
   ]
  },
  {
   "cell_type": "code",
   "execution_count": 1,
   "metadata": {
    "collapsed": true
   },
   "outputs": [],
   "source": [
    "import pandas as pd \n",
    "from eventgraphs import EventGraph\n",
    "import numpy as np\n",
    "import json\n",
    "import pickle"
   ]
  },
  {
   "cell_type": "markdown",
   "metadata": {},
   "source": [
    "## 1. SocioPatterns - School (Hypergraph)"
   ]
  },
  {
   "cell_type": "code",
   "execution_count": 2,
   "metadata": {
    "collapsed": true
   },
   "outputs": [],
   "source": [
    "import json\n",
    "with open('./data/sociopatterns-primaryschool.json') as file:\n",
    "    data = json.load(file)"
   ]
  },
  {
   "cell_type": "code",
   "execution_count": 6,
   "metadata": {},
   "outputs": [
    {
     "name": "stdout",
     "output_type": "stream",
     "text": []
    }
   ],
   "source": [
    "EG = EventGraph.from_dict_eventlist(data, graph_rules='teg')\n",
    "EG.event_graph_rules['delta_cutoff'] = 1e9\n",
    "EG.build(verbose=True)"
   ]
  },
  {
   "cell_type": "code",
   "execution_count": 8,
   "metadata": {
    "collapsed": true
   },
   "outputs": [],
   "source": [
    "EG.calculate_edge_motifs()"
   ]
  },
  {
   "cell_type": "code",
   "execution_count": 9,
   "metadata": {
    "collapsed": true
   },
   "outputs": [],
   "source": [
    "EG.save('./data/eventgraphs/sociopatterns-primary.json')"
   ]
  },
  {
   "cell_type": "markdown",
   "metadata": {},
   "source": [
    "## 2. UC Irvine Social Network (Pairwise)"
   ]
  },
  {
   "cell_type": "code",
   "execution_count": 19,
   "metadata": {
    "collapsed": true
   },
   "outputs": [],
   "source": [
    "data = pd.read_csv('../[Paper] Temporal Event Graph/messages.txt',\n",
    "                   sep=' ',\n",
    "                   header=None, \n",
    "                   names=['source', 'target', 'time'],\n",
    "                   parse_dates=[2],\n",
    "                  )\n",
    "\n",
    "data.time = data.time.astype(int)\n",
    "data['timestamp'] = pd.to_datetime(data.time, unit='s', utc=False)\n",
    "data.time = data.time - data.time[0]"
   ]
  },
  {
   "cell_type": "code",
   "execution_count": 21,
   "metadata": {},
   "outputs": [
    {
     "name": "stdout",
     "output_type": "stream",
     "text": []
    }
   ],
   "source": [
    "EG = EventGraph.from_pandas_eventlist(data, graph_rules='teg')\n",
    "EG.event_graph_rules['delta_cutoff'] = 1e9\n",
    "EG.build(verbose=True)"
   ]
  },
  {
   "cell_type": "code",
   "execution_count": 22,
   "metadata": {
    "collapsed": true
   },
   "outputs": [],
   "source": [
    "EG.calculate_edge_motifs()"
   ]
  },
  {
   "cell_type": "code",
   "execution_count": 23,
   "metadata": {
    "collapsed": true
   },
   "outputs": [],
   "source": [
    "EG.save('./data/eventgraphs/social-ucirvine.json')"
   ]
  },
  {
   "cell_type": "markdown",
   "metadata": {},
   "source": [
    "## 3. Twitter - Emirates (Hypergraph)"
   ]
  },
  {
   "cell_type": "code",
   "execution_count": 14,
   "metadata": {
    "collapsed": true
   },
   "outputs": [],
   "source": [
    "with open('/scratch/mellor/twitter_data/emirates_sunday_hyperevents.json') as file:\n",
    "    data = json.load(file)"
   ]
  },
  {
   "cell_type": "code",
   "execution_count": 15,
   "metadata": {},
   "outputs": [
    {
     "name": "stdout",
     "output_type": "stream",
     "text": []
    }
   ],
   "source": [
    "EG = EventGraph.from_dict_eventlist(data, graph_rules='teg')\n",
    "EG.event_graph_rules['delta_cutoff'] = 1e9\n",
    "EG.build(verbose=True)"
   ]
  },
  {
   "cell_type": "code",
   "execution_count": 16,
   "metadata": {
    "collapsed": true
   },
   "outputs": [],
   "source": [
    "EG.calculate_edge_motifs()"
   ]
  },
  {
   "cell_type": "code",
   "execution_count": 17,
   "metadata": {
    "collapsed": true
   },
   "outputs": [],
   "source": [
    "EG.save('./data/eventgraphs/twitter-emirates.json')"
   ]
  },
  {
   "cell_type": "markdown",
   "metadata": {},
   "source": [
    "## 4. Random Graph (Pairwise)"
   ]
  },
  {
   "cell_type": "code",
   "execution_count": 2,
   "metadata": {
    "collapsed": true
   },
   "outputs": [],
   "source": [
    "t = 0\n",
    "N = 500\n",
    "nodes = np.arange(N)\n",
    "M = 50000 \n",
    "events = np.zeros((M,3))\n",
    "for i in range(M):\n",
    "    u, v = np.random.choice(nodes, size=2, replace=False)\n",
    "    events[i,:] = (u,v,t)\n",
    "    t += np.random.exponential()"
   ]
  },
  {
   "cell_type": "code",
   "execution_count": 3,
   "metadata": {
    "collapsed": true
   },
   "outputs": [],
   "source": [
    "data = pd.DataFrame(events, columns=['source','target','time'])\n",
    "data[['source','target']] = data[['source','target']].astype(int)"
   ]
  },
  {
   "cell_type": "code",
   "execution_count": 4,
   "metadata": {},
   "outputs": [
    {
     "name": "stdout",
     "output_type": "stream",
     "text": []
    }
   ],
   "source": [
    "EG = EventGraph.from_dict_eventlist(data, graph_rules='teg')\n",
    "EG.event_graph_rules['delta_cutoff'] = 1e9\n",
    "EG.build(verbose=True)"
   ]
  },
  {
   "cell_type": "code",
   "execution_count": 5,
   "metadata": {
    "collapsed": true
   },
   "outputs": [],
   "source": [
    "EG.calculate_edge_motifs()"
   ]
  },
  {
   "cell_type": "code",
   "execution_count": 6,
   "metadata": {
    "collapsed": true
   },
   "outputs": [],
   "source": [
    "EG.save('./data/eventgraphs/random-complete.json')"
   ]
  },
  {
   "cell_type": "markdown",
   "metadata": {},
   "source": [
    "## 5. ArXiv Postings (Hypergraph)"
   ]
  },
  {
   "cell_type": "code",
   "execution_count": 3,
   "metadata": {
    "collapsed": true
   },
   "outputs": [],
   "source": [
    "with open('/scratch/mellor/data/metadata_dic.pkl', 'rb') as file:\n",
    "    data = pickle.load(file)"
   ]
  },
  {
   "cell_type": "code",
   "execution_count": 6,
   "metadata": {
    "collapsed": true
   },
   "outputs": [],
   "source": [
    "events = []\n",
    "for key, value in data.items():\n",
    "    try:\n",
    "        source = [x['name'] for x in value['authors']]\n",
    "        target = []\n",
    "        time = pd.to_datetime(value['updated'])\n",
    "        events.append({'source': source,\n",
    "                       'target': target,\n",
    "                       'time': time})\n",
    "    except:\n",
    "        print(key,value)"
   ]
  },
  {
   "cell_type": "code",
   "execution_count": 9,
   "metadata": {},
   "outputs": [
    {
     "data": {
      "text/plain": [
       "Timedelta('10444 days 17:55:52')"
      ]
     },
     "execution_count": 9,
     "metadata": {},
     "output_type": "execute_result"
    }
   ],
   "source": [
    "data = pd.DataFrame(events).sort_values('time').reset_index(drop=True)\n",
    "data.time = (data.time - data.time[0]).dt.days"
   ]
  },
  {
   "cell_type": "code",
   "execution_count": 63,
   "metadata": {},
   "outputs": [
    {
     "name": "stdout",
     "output_type": "stream",
     "text": []
    }
   ],
   "source": [
    "EG = EventGraph.from_dict_eventlist(data, graph_rules='teg')\n",
    "EG.event_graph_rules['delta_cutoff'] = 1e9\n",
    "EG.build(verbose=True)"
   ]
  },
  {
   "cell_type": "code",
   "execution_count": 64,
   "metadata": {
    "collapsed": true
   },
   "outputs": [],
   "source": [
    "EG.calculate_edge_motifs()"
   ]
  },
  {
   "cell_type": "code",
   "execution_count": 65,
   "metadata": {
    "collapsed": true
   },
   "outputs": [],
   "source": [
    "EG.save('./data/eventgraphs/academic-coauthors.json')"
   ]
  },
  {
   "cell_type": "markdown",
   "metadata": {},
   "source": [
    "# Statistics"
   ]
  },
  {
   "cell_type": "code",
   "execution_count": 3,
   "metadata": {},
   "outputs": [
    {
     "name": "stdout",
     "output_type": "stream",
     "text": [
      "twitter-emirates\n",
      "Nodes: 53251\n",
      "Events: 167664\n",
      "Duration: 86398\n",
      "\n",
      "random-er\n",
      "Nodes: 500\n",
      "Events: 50000\n",
      "Duration: 50162.9154966\n",
      "\n",
      "academic-coauthors\n",
      "Nodes: 30927\n",
      "Events: 54177\n",
      "Duration: 10444\n",
      "\n",
      "sociopatterns-primary\n",
      "Nodes: 242\n",
      "Events: 38923\n",
      "Duration: 116920\n",
      "\n",
      "social-ucirvine\n",
      "Nodes: 1899\n",
      "Events: 59835\n",
      "Duration: 16736181\n",
      "\n"
     ]
    }
   ],
   "source": [
    "from glob import glob\n",
    "for file in glob('./data/eventgraphs/*'):\n",
    "    filename = file.split('/')[-1].split('.')[0]\n",
    "    print(filename)\n",
    "    EG = EventGraph.from_file(file)\n",
    "    print(\"Nodes:\", EG.N)\n",
    "    print(\"Events:\", EG.M)\n",
    "    print(\"Duration:\", EG.D, end='\\n\\n')"
   ]
  }
 ],
 "metadata": {
  "kernelspec": {
   "display_name": "Python [conda env:anaconda3]",
   "language": "python",
   "name": "conda-env-anaconda3-py"
  },
  "language_info": {
   "codemirror_mode": {
    "name": "ipython",
    "version": 3
   },
   "file_extension": ".py",
   "mimetype": "text/x-python",
   "name": "python",
   "nbconvert_exporter": "python",
   "pygments_lexer": "ipython3",
   "version": "3.6.1"
  }
 },
 "nbformat": 4,
 "nbformat_minor": 2
}
