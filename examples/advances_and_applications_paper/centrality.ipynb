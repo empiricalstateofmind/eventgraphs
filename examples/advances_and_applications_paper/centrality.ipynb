{
 "cells": [
  {
   "cell_type": "markdown",
   "metadata": {},
   "source": [
    "# Data and Figures for Centrality Study"
   ]
  },
  {
   "cell_type": "code",
   "execution_count": 1,
   "metadata": {},
   "outputs": [
    {
     "name": "stdout",
     "output_type": "stream",
     "text": [
      "Populating the interactive namespace from numpy and matplotlib\n"
     ]
    }
   ],
   "source": [
    "%pylab inline\n",
    "\n",
    "import pandas as pd\n",
    "import scipy.sparse as sp\n",
    "from scipy.sparse import linalg\n",
    "from collections import defaultdict\n",
    "from plotting import PLOT_STYLE"
   ]
  },
  {
   "cell_type": "code",
   "execution_count": null,
   "metadata": {
    "collapsed": true
   },
   "outputs": [],
   "source": [
    "from eventgraphs import EventGraph"
   ]
  },
  {
   "cell_type": "markdown",
   "metadata": {},
   "source": [
    "## Communicability"
   ]
  },
  {
   "cell_type": "code",
   "execution_count": 3,
   "metadata": {
    "collapsed": true
   },
   "outputs": [],
   "source": [
    "# Generate a synthetic dataset with a preferred node\n",
    "\n",
    "np.random.seed(1)\n",
    "\n",
    "events = []\n",
    "\n",
    "N = 20\n",
    "M = 1000\n",
    "t = 0 \n",
    "nodes = np.arange(N)\n",
    "\n",
    "for ix in range(M):\n",
    "    t = t+1\n",
    "    u,v = np.random.choice(nodes, size=2, replace=False)\n",
    "    events.append((u,v,t))\n",
    "    \n",
    "    # If u=0 we force a second immediate path.\n",
    "    if u == 0:\n",
    "        t = t+1\n",
    "        w = v\n",
    "        while w == v: \n",
    "            w = np.random.choice(nodes, size=1, replace=False)\n",
    "        events.append((v,w,t))\n",
    "        \n",
    "events = pd.DataFrame(events, columns=['source', 'target', 'time']).astype(int)"
   ]
  },
  {
   "cell_type": "code",
   "execution_count": 6,
   "metadata": {},
   "outputs": [
    {
     "name": "stdout",
     "output_type": "stream",
     "text": [
      "0 / 20\r"
     ]
    }
   ],
   "source": [
    "EG = EventGraph.from_pandas_eventlist(events, graph_rules='pfg')\n",
    "\n",
    "def path_finder(e1,e2):\n",
    "    dt = e2.time - e1.time\n",
    "    if e1.target == e2.source:\n",
    "        return True, dt\n",
    "    else:\n",
    "        return False, dt\n",
    "EG.event_graph_rules['event_processor'] = path_finder\n",
    "EG.event_graph_rules['subsequential'] = False\n",
    "\n",
    "EG.build(verbose=True)"
   ]
  },
  {
   "cell_type": "code",
   "execution_count": 10,
   "metadata": {
    "collapsed": true
   },
   "outputs": [],
   "source": [
    "def generate_node_event_matrix(eventgraph, kind='source'): # General method to be included in eventgraphs.\n",
    "    \"\"\"Creates a node and event incidence matrix, whether a node is a source or target in an event.\"\"\"\n",
    "    \n",
    "    X = []\n",
    "    Y = []\n",
    "    for ix, row in eventgraph.events.iterrows():\n",
    "        Y.append(ix)\n",
    "        X.append(row[kind])\n",
    "    data = np.ones_like(X)\n",
    "    A = sp.coo_matrix((data, (X,Y)), shape=(eventgraph.N, eventgraph.M), dtype=int)\n",
    "    return A.tocsc()\n",
    "\n",
    "def generate_rankings(EG, alpha, beta):\n",
    "    \"\"\"Calculates the event communicability matrix and broadcast score for each node. \"\"\"\n",
    "    T = EG.D\n",
    "    Im = np.ones(EG.M)\n",
    "    I = sp.eye(EG.M, format='csc')\n",
    "    X = generate_node_event_matrix(EG)\n",
    "    Y = EG.generate_eg_matrix()\n",
    "    Y.data = np.array([np.exp(-beta*x) for x in Y.data])\n",
    "    \n",
    "    M = alpha*linalg.inv(I - alpha*Y)\n",
    "    e = M.dot(Im)\n",
    "    b = X.dot(e)\n",
    "    \n",
    "    return pd.Series(b), pd.Series(e)\n",
    "\n",
    "def percentage_difference(b, focus=0):\n",
    "    \"\"\"Calculates the percentage gain that the focus node has over or under the second best (or first best if under).\"\"\"\n",
    "    ranks = b.sort_values(ascending=False)\n",
    "    if ranks.index[0] == focus:\n",
    "        return ((ranks.iloc[0] - ranks.iloc[1])/ranks.iloc[1])\n",
    "    else:\n",
    "        return ((ranks.loc[focus] - ranks.iloc[0])/ranks.iloc[0])"
   ]
  },
  {
   "cell_type": "code",
   "execution_count": 55,
   "metadata": {},
   "outputs": [
    {
     "name": "stdout",
     "output_type": "stream",
     "text": [
      "0.9 1.0\r"
     ]
    }
   ],
   "source": [
    "x = np.linspace(0.1,0.9,9)\n",
    "y = np.linspace(0,1,11)\n",
    "\n",
    "P = defaultdict(dict)\n",
    "store = defaultdict(dict)\n",
    "\n",
    "for alpha in x:\n",
    "    for beta in y:\n",
    "        print(alpha,beta, end='\\r')\n",
    "        b, e = generate_rankings(EG, alpha, beta)\n",
    "        P[alpha][beta] = percentage_difference(b)\n",
    "        store[alpha][beta] = (b,e)"
   ]
  },
  {
   "cell_type": "code",
   "execution_count": 36,
   "metadata": {},
   "outputs": [
    {
     "data": {
      "image/png": "[encoded data removed]",
      "text/plain": [
       "<matplotlib.figure.Figure at 0x7fc43ff85828>"
      ]
     },
     "metadata": {},
     "output_type": "display_data"
    }
   ],
   "source": [
    "X = pd.DataFrame(P)\n",
    "\n",
    "with plt.style.context(['seaborn-paper', PLOT_STYLE]):\n",
    "\n",
    "    fig = plt.figure(figsize=(6,6))\n",
    "    ax = fig.add_subplot(111, aspect='equal')\n",
    "    im = ax.imshow(X.values, vmin=-0.7, vmax=0.7, cmap=cm.RdBu, origin=0)\n",
    "    fig.colorbar(im)\n",
    "\n",
    "    ax.set_xticks(np.linspace(0,8,9))\n",
    "    ax.set_xticklabels(np.linspace(0.1,0.9,9));\n",
    "    ax.set_xlabel(r'$\\alpha$')\n",
    "\n",
    "    ax.set_yticks(np.linspace(1,11,11))\n",
    "    ax.set_yticklabels(np.linspace(0.1,1,10));\n",
    "    ax.set_ylabel(r'$\\beta$')\n",
    "    ax.set_ylim(0.5,10.5)\n",
    "\n",
    "    fig.savefig('./figures/communicability_parameters.eps', bbox_inches='tight')"
   ]
  },
  {
   "cell_type": "code",
   "execution_count": 38,
   "metadata": {
    "collapsed": true
   },
   "outputs": [],
   "source": [
    "X = generate_node_event_matrix(EG)\n",
    "\n",
    "examples = defaultdict(dict)\n",
    "\n",
    "for alpha, beta in [(0.8, 0.30000000000000004),(0.2, 0.8)]:\n",
    "    \n",
    "    b, e = store[alpha][beta]\n",
    "    cent = e[X[0].nonzero()[1]]\n",
    "    special_node = cent.value_counts(normalize=False).sort_index().cumsum()\n",
    "    \n",
    "    if P[alpha][beta] > 0:\n",
    "        node = b.nlargest().index[1]\n",
    "    else:\n",
    "        node = b.nlargest().index[0]\n",
    "\n",
    "    cent = e[X[node].nonzero()[1]]\n",
    "    other_node = cent.value_counts(normalize=False).sort_index().cumsum()\n",
    "\n",
    "    examples[(alpha,beta)]['special'] = special_node\n",
    "    examples[(alpha,beta)]['other'] = other_node    "
   ]
  },
  {
   "cell_type": "code",
   "execution_count": 54,
   "metadata": {},
   "outputs": [
    {
     "data": {
      "image/png": "[encoded data removed]",
      "text/plain": [
       "<matplotlib.figure.Figure at 0x7fc43ff91438>"
      ]
     },
     "metadata": {},
     "output_type": "display_data"
    }
   ],
   "source": [
    "with plt.style.context(['seaborn-paper', PLOT_STYLE]):\n",
    "    \n",
    "    fig, (ax1,ax2) = plt.subplots(1,2,sharey=True, figsize=(10,4))\n",
    "\n",
    "    for ((alpha,beta), centralities), axis in zip(examples.items(), [ax1,ax2]):\n",
    "    \n",
    "        centralities['special'].plot(logx=False, logy=False, ax=axis, label='$u^*$')\n",
    "        centralities['other'].plot(logx=False, logy=False, ax=axis, label='$u^c$')\n",
    "        \n",
    "        axis.set_ylabel(\"Number of Events\")\n",
    "        axis.set_xlabel(\"Event Centrality\")\n",
    "        \n",
    "        axis.set_ylim(0,70)\n",
    "            \n",
    "        if axis==ax1:\n",
    "            axis.set_xticks([alpha, 1.5*alpha, 2*alpha, 2.5*alpha])\n",
    "            axis.set_xticklabels([r\"$\\alpha$\", r\"$1.5 \\alpha$\", r\"$2.0 \\alpha$\", r\"$2.5 \\alpha$\"])\n",
    "            axis.text(0.9,0.03, s='(a)', transform=axis.transAxes)\n",
    "        else:\n",
    "            axis.set_xticks([alpha, 1.05*alpha, 1.10*alpha, 1.15*alpha])\n",
    "            axis.set_xticklabels([r\"$\\alpha$\", r\"$1.05 \\alpha$\", r\"$1.10\\alpha$\",r\"$1.15\\alpha$\"])\n",
    "            axis.text(0.9,0.03, s='(b)', transform=axis.transAxes)\n",
    "        \n",
    "        if axis==ax2:\n",
    "            axis.legend(loc='best', fontsize=14)\n",
    "            \n",
    "    fig.savefig('./figures/communicability_event_distributions.eps', bbox_inches='tight')"
   ]
  }
 ],
 "metadata": {
  "kernelspec": {
   "display_name": "Python [conda env:anaconda3]",
   "language": "python",
   "name": "conda-env-anaconda3-py"
  },
  "language_info": {
   "codemirror_mode": {
    "name": "ipython",
    "version": 3
   },
   "file_extension": ".py",
   "mimetype": "text/x-python",
   "name": "python",
   "nbconvert_exporter": "python",
   "pygments_lexer": "ipython3",
   "version": "3.6.1"
  }
 },
 "nbformat": 4,
 "nbformat_minor": 2
}
